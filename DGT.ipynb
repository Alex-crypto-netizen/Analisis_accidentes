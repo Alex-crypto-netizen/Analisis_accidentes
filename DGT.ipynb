{
 "cells": [
  {
   "cell_type": "markdown",
   "metadata": {},
   "source": [
    "# Herramienta para predecir accidentes"
   ]
  },
  {
   "cell_type": "markdown",
   "metadata": {},
   "source": [
    "Con este proyecto vamos a intentar crear una herramienta que sea capaz de predecir accidentes durante el año 2020, entrenando nuestro modelo con datos de 2018 y 2019 proporcionados por la DGT. "
   ]
  },
  {
   "cell_type": "code",
   "execution_count": 1,
   "metadata": {},
   "outputs": [],
   "source": [
    "import pandas as pd\n",
    "import numpy as np\n",
    "import seaborn as sns\n",
    "from datetime import datetime\n",
    "import matplotlib.pyplot as plt\n"
   ]
  },
  {
   "cell_type": "code",
   "execution_count": 51,
   "metadata": {},
   "outputs": [],
   "source": [
    "accidentes=pd.read_excel('C:/Users/aleja/Desktop/DataScience/Archivos_externos/2019_Accidentalidad.xlsx')"
   ]
  },
  {
   "cell_type": "code",
   "execution_count": 3,
   "metadata": {},
   "outputs": [
    {
     "data": {
      "text/plain": [
       "(51806, 14)"
      ]
     },
     "execution_count": 3,
     "metadata": {},
     "output_type": "execute_result"
    }
   ],
   "source": [
    "accidentes.shape"
   ]
  },
  {
   "cell_type": "code",
   "execution_count": 4,
   "metadata": {},
   "outputs": [
    {
     "data": {
      "text/plain": [
       "Index(['Nº  EXPEDIENTE', 'FECHA', 'HORA', 'CALLE', 'NÚMERO', 'DISTRITO',\n",
       "       'TIPO ACCIDENTE', 'ESTADO METEREOLÓGICO', 'TIPO VEHÍCULO',\n",
       "       'TIPO PERSONA', 'RANGO EDAD', 'SEXO', 'LESIVIDAD*',\n",
       "       '* La correspondencia de los códigos se encuentra descrito en la estructura del fichero.'],\n",
       "      dtype='object')"
      ]
     },
     "execution_count": 4,
     "metadata": {},
     "output_type": "execute_result"
    }
   ],
   "source": [
    "accidentes.columns"
   ]
  },
  {
   "cell_type": "code",
   "execution_count": 5,
   "metadata": {},
   "outputs": [
    {
     "data": {
      "text/plain": [
       "array(['DE 25 A 29 AÑOS', 'DE 40 A 44 AÑOS', 'DE 35 A 39 AÑOS',\n",
       "       'DE 30 A 34 AÑOS', 'DE 18 A 20 AÑOS', 'DE 55 A 59 AÑOS',\n",
       "       'DESCONOCIDA', 'DE 50 A 54 AÑOS', 'DE 45 A 49 AÑOS',\n",
       "       'DE 21 A 24 AÑOS', 'DE 65 A 69 AÑOS', 'DE 60 A 64 AÑOS',\n",
       "       'DE 15 A 17 AÑOS', 'MAYOR DE 74 AÑOS', 'DE 70 A 74 AÑOS',\n",
       "       'DE 10 A 14 AÑOS', 'DE 6 A 9 AÑOS', 'DE 0 A 5 AÑOS'], dtype=object)"
      ]
     },
     "execution_count": 5,
     "metadata": {},
     "output_type": "execute_result"
    }
   ],
   "source": [
    "accidentes['RANGO EDAD'].unique()"
   ]
  },
  {
   "cell_type": "code",
   "execution_count": 52,
   "metadata": {},
   "outputs": [
    {
     "data": {
      "text/html": [
       "<div>\n",
       "<style scoped>\n",
       "    .dataframe tbody tr th:only-of-type {\n",
       "        vertical-align: middle;\n",
       "    }\n",
       "\n",
       "    .dataframe tbody tr th {\n",
       "        vertical-align: top;\n",
       "    }\n",
       "\n",
       "    .dataframe thead th {\n",
       "        text-align: right;\n",
       "    }\n",
       "</style>\n",
       "<table border=\"1\" class=\"dataframe\">\n",
       "  <thead>\n",
       "    <tr style=\"text-align: right;\">\n",
       "      <th></th>\n",
       "      <th>RANGO EDAD</th>\n",
       "      <th>RANGO EDAD NUM</th>\n",
       "    </tr>\n",
       "  </thead>\n",
       "  <tbody>\n",
       "    <tr>\n",
       "      <td>0</td>\n",
       "      <td>DE 25 A 29 AÑOS</td>\n",
       "      <td>1.0</td>\n",
       "    </tr>\n",
       "    <tr>\n",
       "      <td>1</td>\n",
       "      <td>DE 40 A 44 AÑOS</td>\n",
       "      <td>3.0</td>\n",
       "    </tr>\n",
       "    <tr>\n",
       "      <td>2</td>\n",
       "      <td>DE 35 A 39 AÑOS</td>\n",
       "      <td>2.0</td>\n",
       "    </tr>\n",
       "    <tr>\n",
       "      <td>3</td>\n",
       "      <td>DE 40 A 44 AÑOS</td>\n",
       "      <td>3.0</td>\n",
       "    </tr>\n",
       "    <tr>\n",
       "      <td>4</td>\n",
       "      <td>DE 30 A 34 AÑOS</td>\n",
       "      <td>2.0</td>\n",
       "    </tr>\n",
       "    <tr>\n",
       "      <td>...</td>\n",
       "      <td>...</td>\n",
       "      <td>...</td>\n",
       "    </tr>\n",
       "    <tr>\n",
       "      <td>51801</td>\n",
       "      <td>DE 18 A 20 AÑOS</td>\n",
       "      <td>1.0</td>\n",
       "    </tr>\n",
       "    <tr>\n",
       "      <td>51802</td>\n",
       "      <td>DE 18 A 20 AÑOS</td>\n",
       "      <td>1.0</td>\n",
       "    </tr>\n",
       "    <tr>\n",
       "      <td>51803</td>\n",
       "      <td>NaN</td>\n",
       "      <td>NaN</td>\n",
       "    </tr>\n",
       "    <tr>\n",
       "      <td>51804</td>\n",
       "      <td>DE 21 A 24 AÑOS</td>\n",
       "      <td>1.0</td>\n",
       "    </tr>\n",
       "    <tr>\n",
       "      <td>51805</td>\n",
       "      <td>DE 18 A 20 AÑOS</td>\n",
       "      <td>1.0</td>\n",
       "    </tr>\n",
       "  </tbody>\n",
       "</table>\n",
       "<p>51806 rows × 2 columns</p>\n",
       "</div>"
      ],
      "text/plain": [
       "            RANGO EDAD  RANGO EDAD NUM\n",
       "0      DE 25 A 29 AÑOS             1.0\n",
       "1      DE 40 A 44 AÑOS             3.0\n",
       "2      DE 35 A 39 AÑOS             2.0\n",
       "3      DE 40 A 44 AÑOS             3.0\n",
       "4      DE 30 A 34 AÑOS             2.0\n",
       "...                ...             ...\n",
       "51801  DE 18 A 20 AÑOS             1.0\n",
       "51802  DE 18 A 20 AÑOS             1.0\n",
       "51803              NaN             NaN\n",
       "51804  DE 21 A 24 AÑOS             1.0\n",
       "51805  DE 18 A 20 AÑOS             1.0\n",
       "\n",
       "[51806 rows x 2 columns]"
      ]
     },
     "execution_count": 52,
     "metadata": {},
     "output_type": "execute_result"
    }
   ],
   "source": [
    "edad_ordenado=['DE 0 A 5 AÑOS','DE 6 A 9 AÑOS','DE 10 A 14 AÑOS','DE 15 A 17 AÑOS','DE 18 A 20 AÑOS','DE 21 A 24 AÑOS','DE 25 A 29 AÑOS','DE 30 A 34 AÑOS','DE 35 A 39 AÑOS','DE 40 A 44 AÑOS','DE 45 A 49 AÑOS','DE 50 A 54 AÑOS','DE 55 A 59 AÑOS','DE 60 A 64 AÑOS','DE 65 A 69 AÑOS','DE 70 A 74 AÑOS','MAYOR DE 74 AÑOS']\n",
    "accidentes['RANGO EDAD NUM']=accidentes.replace(edad_ordenado,[0,0,0,0,1,1,1,2,2,3,3,3,3,4,4,4,4])['RANGO EDAD']\n",
    "accidentes.replace('DESCONOCIDA',np.nan,inplace=True)\n",
    "accidentes[['RANGO EDAD', 'RANGO EDAD NUM']]"
   ]
  },
  {
   "cell_type": "code",
   "execution_count": 7,
   "metadata": {},
   "outputs": [
    {
     "data": {
      "text/plain": [
       "array(['Ciclomotor', 'Turismo', 'Todo terreno', 'Bicicleta',\n",
       "       'Motocicleta hasta 125cc', 'Motocicleta > 125cc', 'Autobús',\n",
       "       'Furgoneta', 'Camión rígido', nan, 'Tractocamión',\n",
       "       'Maquinaria de obras', 'Vehículo articulado',\n",
       "       'Cuadriciclo no ligero', 'Autobús articulado',\n",
       "       'Otros vehículos con motor', 'Autocaravana', 'Ciclo',\n",
       "       'Cuadriciclo ligero', 'Semiremolque', 'Microbús <= 17 plazas',\n",
       "       'Sin especificar', 'Remolque', 'Tranvía', 'Caravana',\n",
       "       'VMU eléctrico', 'Otros vehículos sin motor', 'Patinete',\n",
       "       'Bicicleta EPAC (pedaleo asistido)', 'Autobus EMT'], dtype=object)"
      ]
     },
     "execution_count": 7,
     "metadata": {},
     "output_type": "execute_result"
    }
   ],
   "source": [
    "accidentes['TIPO VEHÍCULO'].unique()"
   ]
  },
  {
   "cell_type": "code",
   "execution_count": 53,
   "metadata": {},
   "outputs": [],
   "source": [
    "accidentes['TIPO VEHÍCULO NUM']=accidentes.replace(np.delete(accidentes['TIPO VEHÍCULO'].unique(),9),[1,2,2,0,1,1,3,2,3,3,4,4,1,3,4,3,0,1,4,3,0,4,4,3,0,0,0,0,3])['TIPO VEHÍCULO']"
   ]
  },
  {
   "cell_type": "code",
   "execution_count": 10,
   "metadata": {},
   "outputs": [
    {
     "data": {
      "text/plain": [
       "array(['Caída', 'Colisión fronto-lateral', 'Atropello a persona',\n",
       "       'Choque contra obstáculo fijo', 'Alcance', 'Vuelco',\n",
       "       'Atropello a animal', 'Otro', 'Colisión lateral',\n",
       "       'Colisión frontal', 'Colisión múltiple', 'Solo salida de la vía',\n",
       "       'Despeñamiento', nan], dtype=object)"
      ]
     },
     "execution_count": 10,
     "metadata": {},
     "output_type": "execute_result"
    }
   ],
   "source": [
    "accidentes['TIPO ACCIDENTE'].unique()"
   ]
  },
  {
   "cell_type": "code",
   "execution_count": 54,
   "metadata": {},
   "outputs": [],
   "source": [
    "accidentes['TIPO ACCIDENTE NUM']=accidentes.replace(np.delete(accidentes['TIPO ACCIDENTE'].unique(),13),[1,2,3,4,4,1,3,0,2,2,2,0,1])['TIPO ACCIDENTE']"
   ]
  },
  {
   "cell_type": "code",
   "execution_count": 55,
   "metadata": {},
   "outputs": [],
   "source": [
    "accidentes['MES']=pd.to_datetime(accidentes['FECHA']).dt.strftime('%m').astype('int')"
   ]
  },
  {
   "cell_type": "code",
   "execution_count": 56,
   "metadata": {},
   "outputs": [],
   "source": [
    "rango=[]\n",
    "for i in accidentes.HORA:\n",
    "    if i >= datetime.strptime('06:00','%H:%M').time() and i < datetime.strptime('12:00','%H:%M').time():\n",
    "        rango.append(0)\n",
    "    elif i >= datetime.strptime('12:00','%H:%M').time() and i < datetime.strptime('20:00','%H:%M').time():\n",
    "        rango.append(1)\n",
    "    else:\n",
    "        rango.append(2)\n",
    "    \n",
    "accidentes['RANGO HORARIO']=rango"
   ]
  },
  {
   "cell_type": "code",
   "execution_count": 57,
   "metadata": {},
   "outputs": [],
   "source": [
    "columnas=['DISTRITO',\n",
    "        'ESTADO METEREOLÓGICO',\n",
    "       'TIPO PERSONA','SEXO']\n",
    "for i in columnas:\n",
    "    accidentes[i + ' NUM']=accidentes.replace(accidentes[i].dropna().unique(),np.arange(len(accidentes[i].dropna().unique())))[i]"
   ]
  },
  {
   "cell_type": "code",
   "execution_count": 18,
   "metadata": {},
   "outputs": [
    {
     "data": {
      "text/plain": [
       "Index(['Nº  EXPEDIENTE', 'FECHA', 'HORA', 'CALLE', 'NÚMERO', 'DISTRITO',\n",
       "       'TIPO ACCIDENTE', 'ESTADO METEREOLÓGICO', 'TIPO VEHÍCULO',\n",
       "       'TIPO PERSONA', 'RANGO EDAD', 'SEXO', 'LESIVIDAD*',\n",
       "       '* La correspondencia de los códigos se encuentra descrito en la estructura del fichero.',\n",
       "       'RANGO EDAD NUM', 'TIPO ACCIDENTE NUM', 'TIPO VEHÍCULO NUM', 'MES',\n",
       "       'RANGO HORARIO', 'DISTRITO NUM', 'ESTADO METEREOLÓGICO NUM',\n",
       "       'TIPO PERSONA NUM', 'SEXO NUM'],\n",
       "      dtype='object')"
      ]
     },
     "execution_count": 18,
     "metadata": {},
     "output_type": "execute_result"
    }
   ],
   "source": [
    "accidentes.columns"
   ]
  },
  {
   "cell_type": "code",
   "execution_count": 58,
   "metadata": {},
   "outputs": [
    {
     "data": {
      "text/plain": [
       "array([ 0.,  1., nan])"
      ]
     },
     "execution_count": 58,
     "metadata": {},
     "output_type": "execute_result"
    }
   ],
   "source": [
    "accidentes['SEXO NUM'].unique()"
   ]
  },
  {
   "cell_type": "code",
   "execution_count": 59,
   "metadata": {},
   "outputs": [
    {
     "data": {
      "text/plain": [
       "array([ 1., 14.,  3.,  7., nan,  2.,  5.,  6.,  4., 77.])"
      ]
     },
     "execution_count": 59,
     "metadata": {},
     "output_type": "execute_result"
    }
   ],
   "source": [
    "accidentes['LESIVIDAD*'].unique()"
   ]
  },
  {
   "cell_type": "code",
   "execution_count": 60,
   "metadata": {},
   "outputs": [],
   "source": [
    "accidentes['LESIVIDAD*'].replace(np.nan,0,inplace=True)"
   ]
  },
  {
   "cell_type": "code",
   "execution_count": 61,
   "metadata": {},
   "outputs": [
    {
     "data": {
      "text/html": [
       "<div>\n",
       "<style scoped>\n",
       "    .dataframe tbody tr th:only-of-type {\n",
       "        vertical-align: middle;\n",
       "    }\n",
       "\n",
       "    .dataframe tbody tr th {\n",
       "        vertical-align: top;\n",
       "    }\n",
       "\n",
       "    .dataframe thead th {\n",
       "        text-align: right;\n",
       "    }\n",
       "</style>\n",
       "<table border=\"1\" class=\"dataframe\">\n",
       "  <thead>\n",
       "    <tr style=\"text-align: right;\">\n",
       "      <th></th>\n",
       "      <th>MES</th>\n",
       "      <th>RANGO HORARIO</th>\n",
       "      <th>RANGO EDAD NUM</th>\n",
       "      <th>DISTRITO NUM</th>\n",
       "      <th>TIPO ACCIDENTE NUM</th>\n",
       "      <th>ESTADO METEREOLÓGICO NUM</th>\n",
       "      <th>TIPO VEHÍCULO NUM</th>\n",
       "      <th>TIPO PERSONA NUM</th>\n",
       "      <th>SEXO NUM</th>\n",
       "      <th>LESIVIDAD*</th>\n",
       "    </tr>\n",
       "  </thead>\n",
       "  <tbody>\n",
       "    <tr>\n",
       "      <td>0</td>\n",
       "      <td>1</td>\n",
       "      <td>2</td>\n",
       "      <td>1.0</td>\n",
       "      <td>0.0</td>\n",
       "      <td>1.0</td>\n",
       "      <td>0.0</td>\n",
       "      <td>1.0</td>\n",
       "      <td>0.0</td>\n",
       "      <td>0.0</td>\n",
       "      <td>1.0</td>\n",
       "    </tr>\n",
       "    <tr>\n",
       "      <td>1</td>\n",
       "      <td>1</td>\n",
       "      <td>2</td>\n",
       "      <td>3.0</td>\n",
       "      <td>1.0</td>\n",
       "      <td>2.0</td>\n",
       "      <td>0.0</td>\n",
       "      <td>2.0</td>\n",
       "      <td>0.0</td>\n",
       "      <td>1.0</td>\n",
       "      <td>14.0</td>\n",
       "    </tr>\n",
       "    <tr>\n",
       "      <td>2</td>\n",
       "      <td>1</td>\n",
       "      <td>2</td>\n",
       "      <td>2.0</td>\n",
       "      <td>1.0</td>\n",
       "      <td>2.0</td>\n",
       "      <td>0.0</td>\n",
       "      <td>1.0</td>\n",
       "      <td>0.0</td>\n",
       "      <td>0.0</td>\n",
       "      <td>3.0</td>\n",
       "    </tr>\n",
       "    <tr>\n",
       "      <td>3</td>\n",
       "      <td>1</td>\n",
       "      <td>2</td>\n",
       "      <td>3.0</td>\n",
       "      <td>2.0</td>\n",
       "      <td>2.0</td>\n",
       "      <td>0.0</td>\n",
       "      <td>2.0</td>\n",
       "      <td>0.0</td>\n",
       "      <td>0.0</td>\n",
       "      <td>14.0</td>\n",
       "    </tr>\n",
       "    <tr>\n",
       "      <td>4</td>\n",
       "      <td>1</td>\n",
       "      <td>2</td>\n",
       "      <td>2.0</td>\n",
       "      <td>2.0</td>\n",
       "      <td>2.0</td>\n",
       "      <td>0.0</td>\n",
       "      <td>2.0</td>\n",
       "      <td>0.0</td>\n",
       "      <td>1.0</td>\n",
       "      <td>7.0</td>\n",
       "    </tr>\n",
       "  </tbody>\n",
       "</table>\n",
       "</div>"
      ],
      "text/plain": [
       "   MES  RANGO HORARIO  RANGO EDAD NUM  DISTRITO NUM  TIPO ACCIDENTE NUM  \\\n",
       "0    1              2             1.0           0.0                 1.0   \n",
       "1    1              2             3.0           1.0                 2.0   \n",
       "2    1              2             2.0           1.0                 2.0   \n",
       "3    1              2             3.0           2.0                 2.0   \n",
       "4    1              2             2.0           2.0                 2.0   \n",
       "\n",
       "   ESTADO METEREOLÓGICO NUM  TIPO VEHÍCULO NUM  TIPO PERSONA NUM  SEXO NUM  \\\n",
       "0                       0.0                1.0               0.0       0.0   \n",
       "1                       0.0                2.0               0.0       1.0   \n",
       "2                       0.0                1.0               0.0       0.0   \n",
       "3                       0.0                2.0               0.0       0.0   \n",
       "4                       0.0                2.0               0.0       1.0   \n",
       "\n",
       "   LESIVIDAD*  \n",
       "0         1.0  \n",
       "1        14.0  \n",
       "2         3.0  \n",
       "3        14.0  \n",
       "4         7.0  "
      ]
     },
     "execution_count": 61,
     "metadata": {},
     "output_type": "execute_result"
    }
   ],
   "source": [
    "accidentes_num=accidentes[['MES', 'RANGO HORARIO', 'RANGO EDAD NUM', 'DISTRITO NUM',\n",
    "       'TIPO ACCIDENTE NUM', 'ESTADO METEREOLÓGICO NUM', 'TIPO VEHÍCULO NUM',\n",
    "       'TIPO PERSONA NUM', 'SEXO NUM','LESIVIDAD*']]\n",
    "accidentes_num.head()"
   ]
  },
  {
   "cell_type": "markdown",
   "metadata": {},
   "source": [
    "## Estadísticas"
   ]
  },
  {
   "cell_type": "markdown",
   "metadata": {},
   "source": [
    "**1.**\tPicos en el año donde hay más accidentes (graficar)"
   ]
  },
  {
   "cell_type": "code",
   "execution_count": null,
   "metadata": {},
   "outputs": [],
   "source": [
    "sns.countplot('MES',data=accidentes)"
   ]
  },
  {
   "cell_type": "markdown",
   "metadata": {},
   "source": [
    "**2.**\t5 distritos con más accidentes (graficar)"
   ]
  },
  {
   "cell_type": "code",
   "execution_count": null,
   "metadata": {},
   "outputs": [],
   "source": [
    "distrito=accidentes.groupby('DISTRITO',as_index=False)['Nº  EXPEDIENTE'].count().sort_values(by='Nº  EXPEDIENTE',ascending=False)[0:5]\n",
    "distrito"
   ]
  },
  {
   "cell_type": "code",
   "execution_count": null,
   "metadata": {},
   "outputs": [],
   "source": [
    "sns.barplot(distrito['DISTRITO'],distrito['Nº  EXPEDIENTE'])"
   ]
  },
  {
   "cell_type": "markdown",
   "metadata": {},
   "source": [
    "**3.**\tHorario con más accidentes (categorizar por: mañana, tarde, noche)"
   ]
  },
  {
   "cell_type": "code",
   "execution_count": null,
   "metadata": {},
   "outputs": [],
   "source": [
    "accidentes['RANGO HORARIO'].value_counts()"
   ]
  },
  {
   "cell_type": "markdown",
   "metadata": {},
   "source": [
    "**4.**\tIdentificar por distritos tipos de accidentes (graficar)"
   ]
  },
  {
   "cell_type": "code",
   "execution_count": null,
   "metadata": {},
   "outputs": [],
   "source": [
    "for num,i in enumerate(accidentes.DISTRITO.unique()):\n",
    "    fig =plt.figure(num,figsize=(7,5))\n",
    "    plt.title(i)\n",
    "    sns.countplot(y='TIPO ACCIDENTE',data=accidentes[accidentes['DISTRITO']== i])"
   ]
  },
  {
   "cell_type": "code",
   "execution_count": null,
   "metadata": {},
   "outputs": [],
   "source": [
    "distrito[distrito['DISTRITO']== 'CENTRO']"
   ]
  },
  {
   "cell_type": "markdown",
   "metadata": {},
   "source": [
    "**5.**\tIdentificar los 3 tramos de edad con más accidentes (graficar)"
   ]
  },
  {
   "cell_type": "code",
   "execution_count": null,
   "metadata": {},
   "outputs": [],
   "source": []
  },
  {
   "cell_type": "markdown",
   "metadata": {},
   "source": [
    "**6.**\t3 tipos de accidentes que más suceden por distrito"
   ]
  },
  {
   "cell_type": "markdown",
   "metadata": {},
   "source": [
    "**7.**\tGraficar en orden descendente los días de la semana con más accidentes "
   ]
  },
  {
   "cell_type": "markdown",
   "metadata": {},
   "source": [
    "**8.**\tTipo de accidente más común en cada distrito"
   ]
  },
  {
   "cell_type": "markdown",
   "metadata": {},
   "source": [
    "**9.**\t\"Lugar de accidente” con más accidentes por “tipo de accidente”"
   ]
  },
  {
   "cell_type": "markdown",
   "metadata": {},
   "source": [
    "**10.**\t “Tipo de vehículo” con más accidentes. "
   ]
  },
  {
   "cell_type": "markdown",
   "metadata": {},
   "source": [
    "**11.** Número de accidentes en función del tipo de vehículo"
   ]
  },
  {
   "cell_type": "markdown",
   "metadata": {},
   "source": [
    "**12.** Tipo de accidente en función de las condiciones atmosféricas y de la calzada"
   ]
  },
  {
   "cell_type": "markdown",
   "metadata": {},
   "source": [
    "**13.** Distrito con más accidentes y que tengan algún grado de lesividad, teniendo un estado meteorológico despejado"
   ]
  },
  {
   "cell_type": "markdown",
   "metadata": {},
   "source": [
    "**14.** Porcentaje de accidentes según diferentes condiciones meteorológicas y de asfalto, en función del tipo de vehículo"
   ]
  },
  {
   "cell_type": "markdown",
   "metadata": {},
   "source": [
    "**15.** Grado de lesividad según tipo de accidente "
   ]
  },
  {
   "cell_type": "markdown",
   "metadata": {},
   "source": [
    "**16.** Horarios más comunes para accidentes según distrito."
   ]
  },
  {
   "cell_type": "markdown",
   "metadata": {},
   "source": [
    "## Preguntas a responder"
   ]
  },
  {
   "cell_type": "markdown",
   "metadata": {},
   "source": [
    "**1.**\t¿Relación entre tramo de edad y sexo? "
   ]
  },
  {
   "cell_type": "code",
   "execution_count": 84,
   "metadata": {},
   "outputs": [
    {
     "data": {
      "text/html": [
       "<div>\n",
       "<style scoped>\n",
       "    .dataframe tbody tr th:only-of-type {\n",
       "        vertical-align: middle;\n",
       "    }\n",
       "\n",
       "    .dataframe tbody tr th {\n",
       "        vertical-align: top;\n",
       "    }\n",
       "\n",
       "    .dataframe thead th {\n",
       "        text-align: right;\n",
       "    }\n",
       "</style>\n",
       "<table border=\"1\" class=\"dataframe\">\n",
       "  <thead>\n",
       "    <tr style=\"text-align: right;\">\n",
       "      <th></th>\n",
       "      <th>RANGO EDAD NUM</th>\n",
       "      <th>SEXO NUM</th>\n",
       "    </tr>\n",
       "  </thead>\n",
       "  <tbody>\n",
       "    <tr>\n",
       "      <td>RANGO EDAD NUM</td>\n",
       "      <td>1.000000</td>\n",
       "      <td>-0.086067</td>\n",
       "    </tr>\n",
       "    <tr>\n",
       "      <td>SEXO NUM</td>\n",
       "      <td>-0.086067</td>\n",
       "      <td>1.000000</td>\n",
       "    </tr>\n",
       "  </tbody>\n",
       "</table>\n",
       "</div>"
      ],
      "text/plain": [
       "                RANGO EDAD NUM  SEXO NUM\n",
       "RANGO EDAD NUM        1.000000 -0.086067\n",
       "SEXO NUM             -0.086067  1.000000"
      ]
     },
     "execution_count": 84,
     "metadata": {},
     "output_type": "execute_result"
    }
   ],
   "source": [
    "accidentes_num[['RANGO EDAD NUM','SEXO NUM']].corr()"
   ]
  },
  {
   "cell_type": "markdown",
   "metadata": {},
   "source": [
    "**2.**\t¿Cuál es la correlación entre los atributos?"
   ]
  },
  {
   "cell_type": "code",
   "execution_count": 85,
   "metadata": {},
   "outputs": [
    {
     "data": {
      "text/html": [
       "<div>\n",
       "<style scoped>\n",
       "    .dataframe tbody tr th:only-of-type {\n",
       "        vertical-align: middle;\n",
       "    }\n",
       "\n",
       "    .dataframe tbody tr th {\n",
       "        vertical-align: top;\n",
       "    }\n",
       "\n",
       "    .dataframe thead th {\n",
       "        text-align: right;\n",
       "    }\n",
       "</style>\n",
       "<table border=\"1\" class=\"dataframe\">\n",
       "  <thead>\n",
       "    <tr style=\"text-align: right;\">\n",
       "      <th></th>\n",
       "      <th>MES</th>\n",
       "      <th>RANGO HORARIO</th>\n",
       "      <th>RANGO EDAD NUM</th>\n",
       "      <th>DISTRITO NUM</th>\n",
       "      <th>TIPO ACCIDENTE NUM</th>\n",
       "      <th>ESTADO METEREOLÓGICO NUM</th>\n",
       "      <th>TIPO VEHÍCULO NUM</th>\n",
       "      <th>TIPO PERSONA NUM</th>\n",
       "      <th>SEXO NUM</th>\n",
       "      <th>LESIVIDAD*</th>\n",
       "    </tr>\n",
       "  </thead>\n",
       "  <tbody>\n",
       "    <tr>\n",
       "      <td>MES</td>\n",
       "      <td>1.000000</td>\n",
       "      <td>-0.000472</td>\n",
       "      <td>-0.001532</td>\n",
       "      <td>0.008606</td>\n",
       "      <td>-0.003591</td>\n",
       "      <td>0.114230</td>\n",
       "      <td>-0.015974</td>\n",
       "      <td>-0.003835</td>\n",
       "      <td>-0.001709</td>\n",
       "      <td>-0.013342</td>\n",
       "    </tr>\n",
       "    <tr>\n",
       "      <td>RANGO HORARIO</td>\n",
       "      <td>-0.000472</td>\n",
       "      <td>1.000000</td>\n",
       "      <td>-0.079613</td>\n",
       "      <td>-0.037776</td>\n",
       "      <td>0.023490</td>\n",
       "      <td>0.041468</td>\n",
       "      <td>-0.033055</td>\n",
       "      <td>0.026792</td>\n",
       "      <td>-0.022967</td>\n",
       "      <td>-0.056408</td>\n",
       "    </tr>\n",
       "    <tr>\n",
       "      <td>RANGO EDAD NUM</td>\n",
       "      <td>-0.001532</td>\n",
       "      <td>-0.079613</td>\n",
       "      <td>1.000000</td>\n",
       "      <td>0.006435</td>\n",
       "      <td>0.009552</td>\n",
       "      <td>-0.025542</td>\n",
       "      <td>0.126589</td>\n",
       "      <td>-0.154787</td>\n",
       "      <td>-0.086067</td>\n",
       "      <td>-0.049870</td>\n",
       "    </tr>\n",
       "    <tr>\n",
       "      <td>DISTRITO NUM</td>\n",
       "      <td>0.008606</td>\n",
       "      <td>-0.037776</td>\n",
       "      <td>0.006435</td>\n",
       "      <td>1.000000</td>\n",
       "      <td>0.028825</td>\n",
       "      <td>0.017466</td>\n",
       "      <td>0.052393</td>\n",
       "      <td>-0.008419</td>\n",
       "      <td>0.029155</td>\n",
       "      <td>0.009769</td>\n",
       "    </tr>\n",
       "    <tr>\n",
       "      <td>TIPO ACCIDENTE NUM</td>\n",
       "      <td>-0.003591</td>\n",
       "      <td>0.023490</td>\n",
       "      <td>0.009552</td>\n",
       "      <td>0.028825</td>\n",
       "      <td>1.000000</td>\n",
       "      <td>-0.019269</td>\n",
       "      <td>0.089062</td>\n",
       "      <td>0.045568</td>\n",
       "      <td>0.006967</td>\n",
       "      <td>-0.018308</td>\n",
       "    </tr>\n",
       "    <tr>\n",
       "      <td>ESTADO METEREOLÓGICO NUM</td>\n",
       "      <td>0.114230</td>\n",
       "      <td>0.041468</td>\n",
       "      <td>-0.025542</td>\n",
       "      <td>0.017466</td>\n",
       "      <td>-0.019269</td>\n",
       "      <td>1.000000</td>\n",
       "      <td>-0.026409</td>\n",
       "      <td>0.017667</td>\n",
       "      <td>0.010936</td>\n",
       "      <td>0.022503</td>\n",
       "    </tr>\n",
       "    <tr>\n",
       "      <td>TIPO VEHÍCULO NUM</td>\n",
       "      <td>-0.015974</td>\n",
       "      <td>-0.033055</td>\n",
       "      <td>0.126589</td>\n",
       "      <td>0.052393</td>\n",
       "      <td>0.089062</td>\n",
       "      <td>-0.026409</td>\n",
       "      <td>1.000000</td>\n",
       "      <td>0.057951</td>\n",
       "      <td>0.025600</td>\n",
       "      <td>0.029789</td>\n",
       "    </tr>\n",
       "    <tr>\n",
       "      <td>TIPO PERSONA NUM</td>\n",
       "      <td>-0.003835</td>\n",
       "      <td>0.026792</td>\n",
       "      <td>-0.154787</td>\n",
       "      <td>-0.008419</td>\n",
       "      <td>0.045568</td>\n",
       "      <td>0.017667</td>\n",
       "      <td>0.057951</td>\n",
       "      <td>1.000000</td>\n",
       "      <td>0.286797</td>\n",
       "      <td>0.038157</td>\n",
       "    </tr>\n",
       "    <tr>\n",
       "      <td>SEXO NUM</td>\n",
       "      <td>-0.001709</td>\n",
       "      <td>-0.022967</td>\n",
       "      <td>-0.086067</td>\n",
       "      <td>0.029155</td>\n",
       "      <td>0.006967</td>\n",
       "      <td>0.010936</td>\n",
       "      <td>0.025600</td>\n",
       "      <td>0.286797</td>\n",
       "      <td>1.000000</td>\n",
       "      <td>0.065712</td>\n",
       "    </tr>\n",
       "    <tr>\n",
       "      <td>LESIVIDAD*</td>\n",
       "      <td>-0.013342</td>\n",
       "      <td>-0.056408</td>\n",
       "      <td>-0.049870</td>\n",
       "      <td>0.009769</td>\n",
       "      <td>-0.018308</td>\n",
       "      <td>0.022503</td>\n",
       "      <td>0.029789</td>\n",
       "      <td>0.038157</td>\n",
       "      <td>0.065712</td>\n",
       "      <td>1.000000</td>\n",
       "    </tr>\n",
       "  </tbody>\n",
       "</table>\n",
       "</div>"
      ],
      "text/plain": [
       "                               MES  RANGO HORARIO  RANGO EDAD NUM  \\\n",
       "MES                       1.000000      -0.000472       -0.001532   \n",
       "RANGO HORARIO            -0.000472       1.000000       -0.079613   \n",
       "RANGO EDAD NUM           -0.001532      -0.079613        1.000000   \n",
       "DISTRITO NUM              0.008606      -0.037776        0.006435   \n",
       "TIPO ACCIDENTE NUM       -0.003591       0.023490        0.009552   \n",
       "ESTADO METEREOLÓGICO NUM  0.114230       0.041468       -0.025542   \n",
       "TIPO VEHÍCULO NUM        -0.015974      -0.033055        0.126589   \n",
       "TIPO PERSONA NUM         -0.003835       0.026792       -0.154787   \n",
       "SEXO NUM                 -0.001709      -0.022967       -0.086067   \n",
       "LESIVIDAD*               -0.013342      -0.056408       -0.049870   \n",
       "\n",
       "                          DISTRITO NUM  TIPO ACCIDENTE NUM  \\\n",
       "MES                           0.008606           -0.003591   \n",
       "RANGO HORARIO                -0.037776            0.023490   \n",
       "RANGO EDAD NUM                0.006435            0.009552   \n",
       "DISTRITO NUM                  1.000000            0.028825   \n",
       "TIPO ACCIDENTE NUM            0.028825            1.000000   \n",
       "ESTADO METEREOLÓGICO NUM      0.017466           -0.019269   \n",
       "TIPO VEHÍCULO NUM             0.052393            0.089062   \n",
       "TIPO PERSONA NUM             -0.008419            0.045568   \n",
       "SEXO NUM                      0.029155            0.006967   \n",
       "LESIVIDAD*                    0.009769           -0.018308   \n",
       "\n",
       "                          ESTADO METEREOLÓGICO NUM  TIPO VEHÍCULO NUM  \\\n",
       "MES                                       0.114230          -0.015974   \n",
       "RANGO HORARIO                             0.041468          -0.033055   \n",
       "RANGO EDAD NUM                           -0.025542           0.126589   \n",
       "DISTRITO NUM                              0.017466           0.052393   \n",
       "TIPO ACCIDENTE NUM                       -0.019269           0.089062   \n",
       "ESTADO METEREOLÓGICO NUM                  1.000000          -0.026409   \n",
       "TIPO VEHÍCULO NUM                        -0.026409           1.000000   \n",
       "TIPO PERSONA NUM                          0.017667           0.057951   \n",
       "SEXO NUM                                  0.010936           0.025600   \n",
       "LESIVIDAD*                                0.022503           0.029789   \n",
       "\n",
       "                          TIPO PERSONA NUM  SEXO NUM  LESIVIDAD*  \n",
       "MES                              -0.003835 -0.001709   -0.013342  \n",
       "RANGO HORARIO                     0.026792 -0.022967   -0.056408  \n",
       "RANGO EDAD NUM                   -0.154787 -0.086067   -0.049870  \n",
       "DISTRITO NUM                     -0.008419  0.029155    0.009769  \n",
       "TIPO ACCIDENTE NUM                0.045568  0.006967   -0.018308  \n",
       "ESTADO METEREOLÓGICO NUM          0.017667  0.010936    0.022503  \n",
       "TIPO VEHÍCULO NUM                 0.057951  0.025600    0.029789  \n",
       "TIPO PERSONA NUM                  1.000000  0.286797    0.038157  \n",
       "SEXO NUM                          0.286797  1.000000    0.065712  \n",
       "LESIVIDAD*                        0.038157  0.065712    1.000000  "
      ]
     },
     "execution_count": 85,
     "metadata": {},
     "output_type": "execute_result"
    }
   ],
   "source": [
    "accidentes_num.corr()"
   ]
  },
  {
   "cell_type": "markdown",
   "metadata": {},
   "source": [
    "**3.**\t¿Los días feriados tienen relación con los accidentes?"
   ]
  },
  {
   "cell_type": "markdown",
   "metadata": {},
   "source": [
    "**4.**\t¿Cuál es el día con más accidentes y porque crees que sucedió?"
   ]
  },
  {
   "cell_type": "code",
   "execution_count": 86,
   "metadata": {},
   "outputs": [
    {
     "data": {
      "text/plain": [
       "'05/04/2019'"
      ]
     },
     "execution_count": 86,
     "metadata": {},
     "output_type": "execute_result"
    }
   ],
   "source": [
    "accidentes.groupby('FECHA')['Nº  EXPEDIENTE'].count().idxmax()"
   ]
  },
  {
   "cell_type": "code",
   "execution_count": 87,
   "metadata": {},
   "outputs": [
    {
     "data": {
      "text/plain": [
       "ESTADO METEREOLÓGICO\n",
       "Lluvia débil      154\n",
       "Despejado          56\n",
       "Nublado            38\n",
       "LLuvia intensa      7\n",
       "Granizando          7\n",
       "Se desconoce        6\n",
       "Name: Nº  EXPEDIENTE, dtype: int64"
      ]
     },
     "execution_count": 87,
     "metadata": {},
     "output_type": "execute_result"
    }
   ],
   "source": [
    "accidentes[accidentes['FECHA']=='05/04/2019'].groupby('ESTADO METEREOLÓGICO')['Nº  EXPEDIENTE'].count().sort_values(ascending=False)"
   ]
  },
  {
   "cell_type": "markdown",
   "metadata": {},
   "source": [
    "**5.**\t¿Cuál es la frecuencia de accidentes en cada distrito?"
   ]
  },
  {
   "cell_type": "code",
   "execution_count": 88,
   "metadata": {},
   "outputs": [
    {
     "data": {
      "text/plain": [
       "DISTRITO\n",
       "SALAMANCA              4078\n",
       "PUENTE DE VALLECAS     4063\n",
       "CHAMARTÍN              3891\n",
       "CARABANCHEL            3365\n",
       "CIUDAD LINEAL          3362\n",
       "SAN BLAS-CANILLEJAS    2797\n",
       "CENTRO                 2752\n",
       "MONCLOA-ARAVACA        2688\n",
       "CHAMBERÍ               2680\n",
       "RETIRO                 2671\n",
       "LATINA                 2528\n",
       "FUENCARRAL-EL PARDO    2468\n",
       "TETUÁN                 2382\n",
       "ARGANZUELA             2271\n",
       "HORTALEZA              2025\n",
       "USERA                  1794\n",
       "MORATALAZ              1530\n",
       "VILLAVERDE             1421\n",
       "VILLA DE VALLECAS      1299\n",
       "BARAJAS                1071\n",
       "VICÁLVARO               665\n",
       "Name: Nº  EXPEDIENTE, dtype: int64"
      ]
     },
     "execution_count": 88,
     "metadata": {},
     "output_type": "execute_result"
    }
   ],
   "source": [
    "accidentes.groupby('DISTRITO')['Nº  EXPEDIENTE'].count().sort_values(ascending=False)"
   ]
  },
  {
   "cell_type": "markdown",
   "metadata": {},
   "source": [
    "**6.**\t¿Qué probabilidad tiene una moto de sufrir un accidente y de que tipo sería, en función de las condiciones atmosféricas y de la calzada?"
   ]
  },
  {
   "cell_type": "code",
   "execution_count": 89,
   "metadata": {},
   "outputs": [
    {
     "data": {
      "text/plain": [
       "array(['Ciclomotor', 'Turismo', 'Todo terreno', 'Bicicleta',\n",
       "       'Motocicleta hasta 125cc', 'Motocicleta > 125cc', 'Autobús',\n",
       "       'Furgoneta', 'Camión rígido', nan, 'Tractocamión',\n",
       "       'Maquinaria de obras', 'Vehículo articulado',\n",
       "       'Cuadriciclo no ligero', 'Autobús articulado',\n",
       "       'Otros vehículos con motor', 'Autocaravana', 'Ciclo',\n",
       "       'Cuadriciclo ligero', 'Semiremolque', 'Microbús <= 17 plazas',\n",
       "       'Sin especificar', 'Remolque', 'Tranvía', 'Caravana',\n",
       "       'VMU eléctrico', 'Otros vehículos sin motor', 'Patinete',\n",
       "       'Bicicleta EPAC (pedaleo asistido)', 'Autobus EMT'], dtype=object)"
      ]
     },
     "execution_count": 89,
     "metadata": {},
     "output_type": "execute_result"
    }
   ],
   "source": [
    "accidentes['TIPO VEHÍCULO'].unique()"
   ]
  },
  {
   "cell_type": "code",
   "execution_count": 90,
   "metadata": {},
   "outputs": [
    {
     "name": "stdout",
     "output_type": "stream",
     "text": [
      "Probabilidad de que una moto tenga un accidente: 0.13251360846234028\n"
     ]
    },
    {
     "data": {
      "text/plain": [
       "ESTADO METEREOLÓGICO\n",
       "Despejado         5528\n",
       "Lluvia débil       587\n",
       "Nublado            262\n",
       "Se desconoce       109\n",
       "LLuvia intensa      96\n",
       "Granizando           2\n",
       "Nevando              1\n",
       "Name: Nº  EXPEDIENTE, dtype: int64"
      ]
     },
     "execution_count": 90,
     "metadata": {},
     "output_type": "execute_result"
    }
   ],
   "source": [
    "motos=['Ciclomotor','Motocicleta hasta 125cc','Motocicleta > 125cc']\n",
    "accidentes_motos=accidentes[accidentes['TIPO VEHÍCULO'].isin(motos)]\n",
    "print('Probabilidad de que una moto tenga un accidente: ' + str(len(accidentes_motos)/len(accidentes)))\n",
    "accidentes_motos.groupby('ESTADO METEREOLÓGICO')['Nº  EXPEDIENTE'].count().sort_values(ascending=False)"
   ]
  },
  {
   "cell_type": "markdown",
   "metadata": {},
   "source": [
    "**7.**\t¿Cuál es el tipo de accidente más común de acuerdo al tipo de vehículo?"
   ]
  },
  {
   "cell_type": "code",
   "execution_count": 91,
   "metadata": {},
   "outputs": [
    {
     "name": "stdout",
     "output_type": "stream",
     "text": [
      "Ciclomotor: Caída\n",
      "Turismo: Alcance\n",
      "Todo terreno: Alcance\n",
      "Bicicleta: Caída\n",
      "Motocicleta hasta 125cc: Caída\n",
      "Motocicleta > 125cc: Colisión fronto-lateral\n",
      "Autobús: Colisión fronto-lateral\n",
      "Furgoneta: Alcance\n",
      "Camión rígido: Colisión lateral\n",
      "nan: NONE\n",
      "Tractocamión: Colisión lateral\n",
      "Maquinaria de obras: Colisión lateral\n",
      "Vehículo articulado: Colisión lateral\n",
      "Cuadriciclo no ligero: Atropello a persona\n",
      "Autobús articulado: Colisión fronto-lateral\n",
      "Otros vehículos con motor: Caída\n",
      "Autocaravana: Colisión fronto-lateral\n",
      "Ciclo: Caída\n",
      "Cuadriciclo ligero: Colisión fronto-lateral\n",
      "Semiremolque: Colisión fronto-lateral\n",
      "Microbús <= 17 plazas: Alcance\n",
      "Sin especificar: Colisión fronto-lateral\n",
      "Remolque: Colisión lateral\n",
      "Tranvía: Alcance\n",
      "Caravana: Choque contra obstáculo fijo\n",
      "VMU eléctrico: Caída\n",
      "Otros vehículos sin motor: Atropello a persona\n",
      "Patinete: Caída\n",
      "Bicicleta EPAC (pedaleo asistido): Caída\n",
      "Autobus EMT: Atropello a persona\n"
     ]
    }
   ],
   "source": [
    "for i in accidentes['TIPO VEHÍCULO'].unique():\n",
    "    try:\n",
    "        print(str(i) + ': ' + str(accidentes[accidentes['TIPO VEHÍCULO']==i].groupby('TIPO ACCIDENTE')['Nº  EXPEDIENTE'].count().idxmax()))\n",
    "    except:\n",
    "        print(str(i) + ': NONE') \n",
    "        "
   ]
  },
  {
   "cell_type": "markdown",
   "metadata": {},
   "source": [
    "**8.**\t¿Aumenta el número de accidentes en función del estado del asfalto y del clima?"
   ]
  },
  {
   "cell_type": "code",
   "execution_count": 92,
   "metadata": {},
   "outputs": [
    {
     "data": {
      "text/plain": [
       "ESTADO METEREOLÓGICO\n",
       "Despejado         39984\n",
       "Lluvia débil       3465\n",
       "Nublado            1862\n",
       "Se desconoce        695\n",
       "LLuvia intensa      652\n",
       "Granizando           14\n",
       "Nevando               2\n",
       "Name: Nº  EXPEDIENTE, dtype: int64"
      ]
     },
     "execution_count": 92,
     "metadata": {},
     "output_type": "execute_result"
    }
   ],
   "source": [
    "accidentes.groupby('ESTADO METEREOLÓGICO')['Nº  EXPEDIENTE'].count().sort_values(ascending=False)"
   ]
  },
  {
   "cell_type": "markdown",
   "metadata": {},
   "source": [
    "**9.**\t¿Cuál es el horario y que rango de edad tiene cuando se producen más accidentes?"
   ]
  },
  {
   "cell_type": "code",
   "execution_count": 93,
   "metadata": {},
   "outputs": [
    {
     "data": {
      "text/plain": [
       "RANGO HORARIO\n",
       "1    25559\n",
       "2    14393\n",
       "0    11854\n",
       "Name: Nº  EXPEDIENTE, dtype: int64"
      ]
     },
     "execution_count": 93,
     "metadata": {},
     "output_type": "execute_result"
    }
   ],
   "source": [
    "accidentes.groupby('RANGO HORARIO')['Nº  EXPEDIENTE'].count().sort_values(ascending=False)"
   ]
  },
  {
   "cell_type": "code",
   "execution_count": 94,
   "metadata": {},
   "outputs": [
    {
     "data": {
      "text/plain": [
       "RANGO EDAD\n",
       "DE 40 A 44 AÑOS     3040\n",
       "DE 35 A 39 AÑOS     2726\n",
       "DE 45 A 49 AÑOS     2634\n",
       "DE 30 A 34 AÑOS     2608\n",
       "DE 25 A 29 AÑOS     2602\n",
       "DE 50 A 54 AÑOS     2189\n",
       "DE 55 A 59 AÑOS     1710\n",
       "DE 21 A 24 AÑOS     1408\n",
       "DE 60 A 64 AÑOS     1130\n",
       "MAYOR DE 74 AÑOS     741\n",
       "DE 18 A 20 AÑOS      640\n",
       "DE 65 A 69 AÑOS      569\n",
       "DE 70 A 74 AÑOS      431\n",
       "DE 0 A 5 AÑOS        319\n",
       "DE 10 A 14 AÑOS      305\n",
       "DE 6 A 9 AÑOS        253\n",
       "DE 15 A 17 AÑOS      196\n",
       "Name: Nº  EXPEDIENTE, dtype: int64"
      ]
     },
     "execution_count": 94,
     "metadata": {},
     "output_type": "execute_result"
    }
   ],
   "source": [
    "accidentes[accidentes['RANGO HORARIO']==1].groupby('RANGO EDAD')['Nº  EXPEDIENTE'].count().sort_values(ascending=False)"
   ]
  },
  {
   "cell_type": "markdown",
   "metadata": {},
   "source": [
    "**10.**\t¿Cuáles son los horarios donde debería de haber más agentes de transito y en qué lugares específicamente?      "
   ]
  },
  {
   "cell_type": "code",
   "execution_count": 95,
   "metadata": {},
   "outputs": [
    {
     "data": {
      "text/plain": [
       "DISTRITO             RANGO HORARIO\n",
       "PUENTE DE VALLECAS   1                2118\n",
       "SALAMANCA            1                2090\n",
       "CHAMARTÍN            1                1968\n",
       "CIUDAD LINEAL        1                1620\n",
       "CARABANCHEL          1                1601\n",
       "SAN BLAS-CANILLEJAS  1                1543\n",
       "MONCLOA-ARAVACA      1                1420\n",
       "RETIRO               1                1391\n",
       "CHAMBERÍ             1                1261\n",
       "LATINA               1                1221\n",
       "FUENCARRAL-EL PARDO  1                1190\n",
       "TETUÁN               1                1177\n",
       "SALAMANCA            2                1165\n",
       "PUENTE DE VALLECAS   2                1152\n",
       "CENTRO               1                1133\n",
       "Name: Nº  EXPEDIENTE, dtype: int64"
      ]
     },
     "execution_count": 95,
     "metadata": {},
     "output_type": "execute_result"
    }
   ],
   "source": [
    "accidentes.groupby(['DISTRITO','RANGO HORARIO'])['Nº  EXPEDIENTE'].count().sort_values(ascending=False)[0:15]"
   ]
  },
  {
   "cell_type": "markdown",
   "metadata": {},
   "source": [
    "## Predicción"
   ]
  },
  {
   "cell_type": "code",
   "execution_count": 62,
   "metadata": {},
   "outputs": [],
   "source": [
    "from sklearn import neighbors\n",
    "from sklearn.model_selection import cross_val_score\n",
    "from sklearn.metrics import make_scorer\n",
    "from sklearn.metrics import accuracy_score\n",
    "from sklearn.metrics import precision_score\n",
    "from sklearn.metrics import recall_score\n",
    "from sklearn.metrics import f1_score"
   ]
  },
  {
   "cell_type": "code",
   "execution_count": 63,
   "metadata": {},
   "outputs": [
    {
     "data": {
      "text/html": [
       "<div>\n",
       "<style scoped>\n",
       "    .dataframe tbody tr th:only-of-type {\n",
       "        vertical-align: middle;\n",
       "    }\n",
       "\n",
       "    .dataframe tbody tr th {\n",
       "        vertical-align: top;\n",
       "    }\n",
       "\n",
       "    .dataframe thead th {\n",
       "        text-align: right;\n",
       "    }\n",
       "</style>\n",
       "<table border=\"1\" class=\"dataframe\">\n",
       "  <thead>\n",
       "    <tr style=\"text-align: right;\">\n",
       "      <th></th>\n",
       "      <th>MES</th>\n",
       "      <th>RANGO HORARIO</th>\n",
       "      <th>RANGO EDAD NUM</th>\n",
       "      <th>DISTRITO NUM</th>\n",
       "      <th>TIPO ACCIDENTE NUM</th>\n",
       "      <th>ESTADO METEREOLÓGICO NUM</th>\n",
       "      <th>TIPO VEHÍCULO NUM</th>\n",
       "      <th>TIPO PERSONA NUM</th>\n",
       "      <th>SEXO NUM</th>\n",
       "      <th>LESIVIDAD*</th>\n",
       "    </tr>\n",
       "  </thead>\n",
       "  <tbody>\n",
       "    <tr>\n",
       "      <td>0</td>\n",
       "      <td>1.0</td>\n",
       "      <td>2.0</td>\n",
       "      <td>1.0</td>\n",
       "      <td>0.0</td>\n",
       "      <td>1.0</td>\n",
       "      <td>0.0</td>\n",
       "      <td>1.0</td>\n",
       "      <td>0.0</td>\n",
       "      <td>0.0</td>\n",
       "      <td>1.0</td>\n",
       "    </tr>\n",
       "    <tr>\n",
       "      <td>1</td>\n",
       "      <td>1.0</td>\n",
       "      <td>2.0</td>\n",
       "      <td>3.0</td>\n",
       "      <td>1.0</td>\n",
       "      <td>2.0</td>\n",
       "      <td>0.0</td>\n",
       "      <td>2.0</td>\n",
       "      <td>0.0</td>\n",
       "      <td>1.0</td>\n",
       "      <td>14.0</td>\n",
       "    </tr>\n",
       "    <tr>\n",
       "      <td>2</td>\n",
       "      <td>1.0</td>\n",
       "      <td>2.0</td>\n",
       "      <td>2.0</td>\n",
       "      <td>1.0</td>\n",
       "      <td>2.0</td>\n",
       "      <td>0.0</td>\n",
       "      <td>1.0</td>\n",
       "      <td>0.0</td>\n",
       "      <td>0.0</td>\n",
       "      <td>3.0</td>\n",
       "    </tr>\n",
       "    <tr>\n",
       "      <td>3</td>\n",
       "      <td>1.0</td>\n",
       "      <td>2.0</td>\n",
       "      <td>3.0</td>\n",
       "      <td>2.0</td>\n",
       "      <td>2.0</td>\n",
       "      <td>0.0</td>\n",
       "      <td>2.0</td>\n",
       "      <td>0.0</td>\n",
       "      <td>0.0</td>\n",
       "      <td>14.0</td>\n",
       "    </tr>\n",
       "  </tbody>\n",
       "</table>\n",
       "</div>"
      ],
      "text/plain": [
       "   MES  RANGO HORARIO  RANGO EDAD NUM  DISTRITO NUM  TIPO ACCIDENTE NUM  \\\n",
       "0  1.0            2.0             1.0           0.0                 1.0   \n",
       "1  1.0            2.0             3.0           1.0                 2.0   \n",
       "2  1.0            2.0             2.0           1.0                 2.0   \n",
       "3  1.0            2.0             3.0           2.0                 2.0   \n",
       "\n",
       "   ESTADO METEREOLÓGICO NUM  TIPO VEHÍCULO NUM  TIPO PERSONA NUM  SEXO NUM  \\\n",
       "0                       0.0                1.0               0.0       0.0   \n",
       "1                       0.0                2.0               0.0       1.0   \n",
       "2                       0.0                1.0               0.0       0.0   \n",
       "3                       0.0                2.0               0.0       0.0   \n",
       "\n",
       "   LESIVIDAD*  \n",
       "0         1.0  \n",
       "1        14.0  \n",
       "2         3.0  \n",
       "3        14.0  "
      ]
     },
     "execution_count": 63,
     "metadata": {},
     "output_type": "execute_result"
    }
   ],
   "source": [
    "from sklearn.experimental import enable_iterative_imputer\n",
    "from sklearn.impute import SimpleImputer\n",
    "imputer = SimpleImputer(missing_values=np.nan, strategy='most_frequent')\n",
    "imputer.fit(accidentes_num)\n",
    "accidentes_num_imp = imputer.transform(accidentes_num)\n",
    "accidentes_num = pd.DataFrame(accidentes_num_imp, columns = accidentes_num.columns)\n",
    "accidentes_num.head(4)"
   ]
  },
  {
   "cell_type": "markdown",
   "metadata": {},
   "source": [
    "**1.**\tPredecir el tramo de edad "
   ]
  },
  {
   "cell_type": "code",
   "execution_count": 64,
   "metadata": {},
   "outputs": [
    {
     "name": "stdout",
     "output_type": "stream",
     "text": [
      "[0.24177119 0.26037182 0.2500277  0.24394484 0.25861665 0.26345092\n",
      " 0.25177514 0.2454727  0.24543372 0.25637862]\n",
      "**************************************************\n",
      "F1-score:  0.25172433022804824\n"
     ]
    }
   ],
   "source": [
    "X=np.asarray(accidentes_num.drop('RANGO EDAD NUM', axis=1))\n",
    "y=np.asarray(accidentes_num['RANGO EDAD NUM'])\n",
    "clf = neighbors.KNeighborsClassifier(3, weights=\"distance\")\n",
    "scores = cross_val_score(clf, X, y, cv=10, scoring = make_scorer(f1_score,average='macro'))\n",
    "print(scores)\n",
    "print(\"*****\"*10)\n",
    "print(\"F1-score: \", scores.mean())"
   ]
  },
  {
   "cell_type": "markdown",
   "metadata": {},
   "source": [
    "**2.**\tPredecir el tipo de accidente "
   ]
  },
  {
   "cell_type": "code",
   "execution_count": 65,
   "metadata": {},
   "outputs": [],
   "source": [
    "X=np.asarray(accidentes_num.drop('TIPO ACCIDENTE NUM', axis=1))\n",
    "y=np.asarray(accidentes_num['TIPO ACCIDENTE NUM'])"
   ]
  },
  {
   "cell_type": "code",
   "execution_count": 66,
   "metadata": {},
   "outputs": [
    {
     "name": "stdout",
     "output_type": "stream",
     "text": [
      "[0.30432385 0.31718821 0.31322759 0.30182127 0.30895149 0.3253664\n",
      " 0.30775519 0.29922802 0.3027084  0.29166353]\n",
      "**************************************************\n",
      "F1-score:  0.30722339314757885\n"
     ]
    }
   ],
   "source": [
    "clf = neighbors.KNeighborsClassifier(3, weights=\"distance\")\n",
    "scores = cross_val_score(clf, X, y, cv=10, scoring = make_scorer(f1_score,average='macro'))\n",
    "print(scores)\n",
    "print(\"*****\"*10)\n",
    "print(\"F1-score: \", scores.mean())"
   ]
  },
  {
   "cell_type": "code",
   "execution_count": null,
   "metadata": {},
   "outputs": [],
   "source": [
    "from sklearn.model_selection import LeaveOneOut\n",
    "loo = LeaveOneOut()\n",
    "loo.get_n_splits(X)\n",
    "yhat=[]\n",
    "for train_index, test_index in loo.split(X):\n",
    "    X_train, X_test = X[train_index], X[test_index]\n",
    "    y_train, y_test = y[train_index], y[test_index]\n",
    "    \n",
    "    #CLASIFICADOR 3NN\n",
    "    clf = neighbors.KNeighborsClassifier(3, weights=\"distance\")\n",
    "    clf.fit(X_train, y_train)\n",
    "    yhat1 = clf.predict(X_test)\n",
    "    yhat.append(yhat1)\n",
    "print(\"F1-score: \", f1_score(y,yhat))"
   ]
  },
  {
   "cell_type": "markdown",
   "metadata": {},
   "source": [
    "**3.**\tPredecir el día del accidente "
   ]
  },
  {
   "cell_type": "markdown",
   "metadata": {},
   "source": [
    "**4.**\tPredecir el mes de un accidente"
   ]
  },
  {
   "cell_type": "code",
   "execution_count": 67,
   "metadata": {},
   "outputs": [
    {
     "name": "stdout",
     "output_type": "stream",
     "text": [
      "[0.07658023 0.07233812 0.07521269 0.08286914 0.07846741 0.08759712\n",
      " 0.09786511 0.0748617  0.08132082 0.08834817]\n",
      "**************************************************\n",
      "F1-score:  0.08154605090061304\n"
     ]
    }
   ],
   "source": [
    "X=np.asarray(accidentes_num.drop('MES', axis=1))\n",
    "y=np.asarray(accidentes_num['MES'])\n",
    "clf = neighbors.KNeighborsClassifier(3, weights=\"distance\")\n",
    "scores = cross_val_score(clf, X, y, cv=10, scoring = make_scorer(f1_score,average='macro'))\n",
    "print(scores)\n",
    "print(\"*****\"*10)\n",
    "print(\"F1-score: \", scores.mean())"
   ]
  },
  {
   "cell_type": "markdown",
   "metadata": {},
   "source": [
    "**5.**\tPredecir el horario del accidente (categorizar por: mañana, tarde, noche)"
   ]
  },
  {
   "cell_type": "code",
   "execution_count": 68,
   "metadata": {},
   "outputs": [
    {
     "name": "stdout",
     "output_type": "stream",
     "text": [
      "[0.34175346 0.33473948 0.32704531 0.32410544 0.34122845 0.33771562\n",
      " 0.33917775 0.33506018 0.33694016 0.36128743]\n",
      "**************************************************\n",
      "F1-score:  0.33790532778813104\n"
     ]
    }
   ],
   "source": [
    "X=np.asarray(accidentes_num.drop('RANGO HORARIO', axis=1))\n",
    "y=np.asarray(accidentes_num['RANGO HORARIO'])\n",
    "clf = neighbors.KNeighborsClassifier(3, weights=\"distance\")\n",
    "scores = cross_val_score(clf, X, y, cv=10, scoring = make_scorer(f1_score,average='macro'))\n",
    "print(scores)\n",
    "print(\"*****\"*10)\n",
    "print(\"F1-score: \", scores.mean())"
   ]
  },
  {
   "cell_type": "markdown",
   "metadata": {},
   "source": [
    "**6.**\tProponer"
   ]
  },
  {
   "cell_type": "code",
   "execution_count": 69,
   "metadata": {},
   "outputs": [
    {
     "name": "stderr",
     "output_type": "stream",
     "text": [
      "C:\\Users\\aleja\\Anaconda3\\lib\\site-packages\\sklearn\\model_selection\\_split.py:657: Warning: The least populated class in y has only 1 members, which is too few. The minimum number of members in any class cannot be less than n_splits=10.\n",
      "  % (min_groups, self.n_splits)), Warning)\n",
      "C:\\Users\\aleja\\Anaconda3\\lib\\site-packages\\sklearn\\metrics\\classification.py:1437: UndefinedMetricWarning: F-score is ill-defined and being set to 0.0 in labels with no predicted samples.\n",
      "  'precision', 'predicted', average, warn_for)\n",
      "C:\\Users\\aleja\\Anaconda3\\lib\\site-packages\\sklearn\\metrics\\classification.py:1439: UndefinedMetricWarning: F-score is ill-defined and being set to 0.0 in labels with no true samples.\n",
      "  'recall', 'true', average, warn_for)\n"
     ]
    },
    {
     "name": "stdout",
     "output_type": "stream",
     "text": [
      "[0.13941075 0.1429253  0.14335092 0.16070799 0.15859546 0.15688918\n",
      " 0.16806628 0.15417201 0.16069594 0.14576861]\n",
      "**************************************************\n",
      "F1-score:  0.1530582451282619\n"
     ]
    }
   ],
   "source": [
    "X=np.asarray(accidentes_num.drop('LESIVIDAD*', axis=1))\n",
    "y=np.asarray(accidentes_num['LESIVIDAD*'])\n",
    "clf = neighbors.KNeighborsClassifier(3, weights=\"distance\")\n",
    "scores = cross_val_score(clf, X, y, cv=10, scoring = make_scorer(f1_score,average='macro'))\n",
    "print(scores)\n",
    "print(\"*****\"*10)\n",
    "print(\"F1-score: \", scores.mean())"
   ]
  },
  {
   "cell_type": "markdown",
   "metadata": {},
   "source": [
    "## Clustering"
   ]
  },
  {
   "cell_type": "markdown",
   "metadata": {},
   "source": [
    "**1.**\tUtilizar “tramo de edad” y “horario del accidente” para hacer clustering "
   ]
  },
  {
   "cell_type": "code",
   "execution_count": null,
   "metadata": {},
   "outputs": [],
   "source": [
    "accidentes_num.columns"
   ]
  },
  {
   "cell_type": "code",
   "execution_count": null,
   "metadata": {},
   "outputs": [],
   "source": [
    "plt.scatter(accidentes_num['RANGO EDAD NUM'], accidentes_num['RANGO HORARIO'], marker='.')"
   ]
  },
  {
   "cell_type": "code",
   "execution_count": null,
   "metadata": {},
   "outputs": [],
   "source": [
    "from sklearn.cluster import KMeans \n",
    "k_means = KMeans(init = \"k-means++\", n_clusters = 3, n_init = 12)"
   ]
  },
  {
   "cell_type": "code",
   "execution_count": null,
   "metadata": {},
   "outputs": [],
   "source": [
    "k_means.fit(np.asarray(accidentes_num[['RANGO EDAD NUM','RANGO HORARIO']]))"
   ]
  },
  {
   "cell_type": "code",
   "execution_count": null,
   "metadata": {},
   "outputs": [],
   "source": [
    "k_means_labels = k_means.labels_\n",
    "k_means_cluster_centers = k_means.cluster_centers_\n",
    "print(k_means_labels)\n",
    "print(k_means_cluster_centers)"
   ]
  },
  {
   "cell_type": "markdown",
   "metadata": {},
   "source": [
    "**2.**\tUtilizar “Dia de la semana” y “tramo de edad” para hacer clustering"
   ]
  },
  {
   "cell_type": "code",
   "execution_count": null,
   "metadata": {},
   "outputs": [],
   "source": [
    "plt.scatter(accidentes_num['MES'], accidentes_num['RANGO EDAD NUM'], marker='.')"
   ]
  },
  {
   "cell_type": "code",
   "execution_count": null,
   "metadata": {},
   "outputs": [],
   "source": [
    "from sklearn.cluster import KMeans \n",
    "k_means = KMeans(init = \"k-means++\", n_clusters = 4, n_init = 12)"
   ]
  },
  {
   "cell_type": "code",
   "execution_count": null,
   "metadata": {},
   "outputs": [],
   "source": [
    "k_means.fit(np.asarray(X[['MES','RANGO EDAD NUM']]))"
   ]
  },
  {
   "cell_type": "code",
   "execution_count": null,
   "metadata": {},
   "outputs": [],
   "source": [
    "k_means_labels = k_means.labels_\n",
    "k_means_cluster_centers = k_means.cluster_centers_\n",
    "print(k_means_labels)\n",
    "print(k_means_cluster_centers)"
   ]
  },
  {
   "cell_type": "code",
   "execution_count": null,
   "metadata": {},
   "outputs": [],
   "source": []
  },
  {
   "cell_type": "markdown",
   "metadata": {},
   "source": [
    "**3.**\tProponer"
   ]
  },
  {
   "cell_type": "markdown",
   "metadata": {},
   "source": [
    "## Series de tiempo con RNN"
   ]
  },
  {
   "cell_type": "code",
   "execution_count": 72,
   "metadata": {},
   "outputs": [
    {
     "name": "stderr",
     "output_type": "stream",
     "text": [
      "Using TensorFlow backend.\n"
     ]
    }
   ],
   "source": [
    "from keras.models import Sequential\n",
    "from keras.layers import Dense, SimpleRNN"
   ]
  },
  {
   "cell_type": "code",
   "execution_count": 74,
   "metadata": {},
   "outputs": [
    {
     "data": {
      "text/plain": [
       "10"
      ]
     },
     "execution_count": 74,
     "metadata": {},
     "output_type": "execute_result"
    }
   ],
   "source": [
    "len(accidentes_num.columns)"
   ]
  },
  {
   "cell_type": "markdown",
   "metadata": {},
   "source": [
    "**1.**\tPredecir el tipo de accidente respecto al tiempo. (graficar)"
   ]
  },
  {
   "cell_type": "code",
   "execution_count": 76,
   "metadata": {},
   "outputs": [
    {
     "data": {
      "text/plain": [
       "5"
      ]
     },
     "execution_count": 76,
     "metadata": {},
     "output_type": "execute_result"
    }
   ],
   "source": [
    "len(accidentes_num['TIPO ACCIDENTE NUM'].unique())"
   ]
  },
  {
   "cell_type": "code",
   "execution_count": 81,
   "metadata": {},
   "outputs": [],
   "source": [
    "X=np.asarray(accidentes_num.drop('TIPO ACCIDENTE NUM', axis=1))\n",
    "y=np.asarray(accidentes_num['TIPO ACCIDENTE NUM'])\n",
    "trainX, testX, trainy, testy = train_test_split( X, y, test_size=0.3, random_state=4)"
   ]
  },
  {
   "cell_type": "code",
   "execution_count": null,
   "metadata": {},
   "outputs": [],
   "source": [
    "#Las RNN requieren de un valor de paso que contiene n número de elementos como secuencia de entrada. \n",
    "#lo definimos como un 'step'.\n",
    "# convert into dataset matrix\n",
    "step = 365\n",
    "\n",
    "def convertToMatrix(data, step):\n",
    "    X, Y =[], []\n",
    "    for i in range(len(data)-step):\n",
    "        d=i+step  \n",
    "        X.append(data[i:d,])\n",
    "        Y.append(data[d,])\n",
    "    return np.array(X), np.array(Y)\n",
    "\n",
    "# add step elements into train and test\n",
    "test = np.append(test,np.repeat(test[-1,],step))\n",
    "train = np.append(train,np.repeat(train[-1,],step))\n",
    "\n",
    "trainX,trainY =convertToMatrix(train,step)\n",
    "testX,testY =convertToMatrix(test,step)\n",
    "trainX = np.reshape(trainX, (trainX.shape[0], 1, trainX.shape[1]))\n",
    "testX = np.reshape(testX, (testX.shape[0], 1, testX.shape[1]))"
   ]
  },
  {
   "cell_type": "code",
   "execution_count": 82,
   "metadata": {},
   "outputs": [
    {
     "name": "stdout",
     "output_type": "stream",
     "text": [
      "Model: \"sequential_3\"\n",
      "_________________________________________________________________\n",
      "Layer (type)                 Output Shape              Param #   \n",
      "=================================================================\n",
      "simple_rnn_2 (SimpleRNN)     (None, 9)                 171       \n",
      "_________________________________________________________________\n",
      "dense_3 (Dense)              (None, 8)                 80        \n",
      "_________________________________________________________________\n",
      "dense_4 (Dense)              (None, 5)                 45        \n",
      "=================================================================\n",
      "Total params: 296\n",
      "Trainable params: 296\n",
      "Non-trainable params: 0\n",
      "_________________________________________________________________\n"
     ]
    }
   ],
   "source": [
    "# MODELO\n",
    "model = Sequential()\n",
    "model.add(SimpleRNN(9, input_shape=(1,9), activation=\"relu\", unroll=True))\n",
    "model.add(Dense(8, activation=\"relu\")) \n",
    "model.add(Dense(5,activation='softmax'))\n",
    "model.compile(loss='mean_squared_error', optimizer='adam')\n",
    "model.summary()"
   ]
  },
  {
   "cell_type": "code",
   "execution_count": 83,
   "metadata": {},
   "outputs": [
    {
     "ename": "ValueError",
     "evalue": "Error when checking input: expected simple_rnn_2_input to have 3 dimensions, but got array with shape (36264, 9)",
     "output_type": "error",
     "traceback": [
      "\u001b[1;31m---------------------------------------------------------------------------\u001b[0m",
      "\u001b[1;31mValueError\u001b[0m                                Traceback (most recent call last)",
      "\u001b[1;32m<ipython-input-83-0649f1963817>\u001b[0m in \u001b[0;36m<module>\u001b[1;34m\u001b[0m\n\u001b[1;32m----> 1\u001b[1;33m \u001b[0mmodel\u001b[0m\u001b[1;33m.\u001b[0m\u001b[0mfit\u001b[0m\u001b[1;33m(\u001b[0m\u001b[0mtrainX\u001b[0m\u001b[1;33m,\u001b[0m\u001b[0mtrainy\u001b[0m\u001b[1;33m,\u001b[0m \u001b[0mepochs\u001b[0m\u001b[1;33m=\u001b[0m\u001b[1;36m100\u001b[0m\u001b[1;33m,\u001b[0m \u001b[0mbatch_size\u001b[0m\u001b[1;33m=\u001b[0m\u001b[1;36m64\u001b[0m\u001b[1;33m,\u001b[0m \u001b[0mverbose\u001b[0m\u001b[1;33m=\u001b[0m\u001b[1;36m2\u001b[0m\u001b[1;33m)\u001b[0m\u001b[1;33m\u001b[0m\u001b[1;33m\u001b[0m\u001b[0m\n\u001b[0m\u001b[0;32m      2\u001b[0m \u001b[0mtrainPredict\u001b[0m \u001b[1;33m=\u001b[0m \u001b[0mmodel\u001b[0m\u001b[1;33m.\u001b[0m\u001b[0mpredict\u001b[0m\u001b[1;33m(\u001b[0m\u001b[0mtrainX\u001b[0m\u001b[1;33m)\u001b[0m\u001b[1;33m\u001b[0m\u001b[1;33m\u001b[0m\u001b[0m\n\u001b[0;32m      3\u001b[0m \u001b[0mtestPredict\u001b[0m\u001b[1;33m=\u001b[0m \u001b[0mmodel\u001b[0m\u001b[1;33m.\u001b[0m\u001b[0mpredict\u001b[0m\u001b[1;33m(\u001b[0m\u001b[0mtestX\u001b[0m\u001b[1;33m)\u001b[0m\u001b[1;33m\u001b[0m\u001b[1;33m\u001b[0m\u001b[0m\n\u001b[0;32m      4\u001b[0m \u001b[1;33m\u001b[0m\u001b[0m\n\u001b[0;32m      5\u001b[0m \u001b[0mpredicted\u001b[0m\u001b[1;33m=\u001b[0m\u001b[0mnp\u001b[0m\u001b[1;33m.\u001b[0m\u001b[0mconcatenate\u001b[0m\u001b[1;33m(\u001b[0m\u001b[1;33m(\u001b[0m\u001b[0mtrainPredict\u001b[0m\u001b[1;33m,\u001b[0m\u001b[0mtestPredict\u001b[0m\u001b[1;33m)\u001b[0m\u001b[1;33m,\u001b[0m\u001b[0maxis\u001b[0m\u001b[1;33m=\u001b[0m\u001b[1;36m0\u001b[0m\u001b[1;33m,\u001b[0m\u001b[1;33m)\u001b[0m\u001b[1;33m\u001b[0m\u001b[1;33m\u001b[0m\u001b[0m\n",
      "\u001b[1;32m~\\Anaconda3\\lib\\site-packages\\keras\\engine\\training.py\u001b[0m in \u001b[0;36mfit\u001b[1;34m(self, x, y, batch_size, epochs, verbose, callbacks, validation_split, validation_data, shuffle, class_weight, sample_weight, initial_epoch, steps_per_epoch, validation_steps, validation_freq, max_queue_size, workers, use_multiprocessing, **kwargs)\u001b[0m\n\u001b[0;32m   1152\u001b[0m             \u001b[0msample_weight\u001b[0m\u001b[1;33m=\u001b[0m\u001b[0msample_weight\u001b[0m\u001b[1;33m,\u001b[0m\u001b[1;33m\u001b[0m\u001b[1;33m\u001b[0m\u001b[0m\n\u001b[0;32m   1153\u001b[0m             \u001b[0mclass_weight\u001b[0m\u001b[1;33m=\u001b[0m\u001b[0mclass_weight\u001b[0m\u001b[1;33m,\u001b[0m\u001b[1;33m\u001b[0m\u001b[1;33m\u001b[0m\u001b[0m\n\u001b[1;32m-> 1154\u001b[1;33m             batch_size=batch_size)\n\u001b[0m\u001b[0;32m   1155\u001b[0m \u001b[1;33m\u001b[0m\u001b[0m\n\u001b[0;32m   1156\u001b[0m         \u001b[1;31m# Prepare validation data.\u001b[0m\u001b[1;33m\u001b[0m\u001b[1;33m\u001b[0m\u001b[1;33m\u001b[0m\u001b[0m\n",
      "\u001b[1;32m~\\Anaconda3\\lib\\site-packages\\keras\\engine\\training.py\u001b[0m in \u001b[0;36m_standardize_user_data\u001b[1;34m(self, x, y, sample_weight, class_weight, check_array_lengths, batch_size)\u001b[0m\n\u001b[0;32m    577\u001b[0m             \u001b[0mfeed_input_shapes\u001b[0m\u001b[1;33m,\u001b[0m\u001b[1;33m\u001b[0m\u001b[1;33m\u001b[0m\u001b[0m\n\u001b[0;32m    578\u001b[0m             \u001b[0mcheck_batch_axis\u001b[0m\u001b[1;33m=\u001b[0m\u001b[1;32mFalse\u001b[0m\u001b[1;33m,\u001b[0m  \u001b[1;31m# Don't enforce the batch size.\u001b[0m\u001b[1;33m\u001b[0m\u001b[1;33m\u001b[0m\u001b[0m\n\u001b[1;32m--> 579\u001b[1;33m             exception_prefix='input')\n\u001b[0m\u001b[0;32m    580\u001b[0m \u001b[1;33m\u001b[0m\u001b[0m\n\u001b[0;32m    581\u001b[0m         \u001b[1;32mif\u001b[0m \u001b[0my\u001b[0m \u001b[1;32mis\u001b[0m \u001b[1;32mnot\u001b[0m \u001b[1;32mNone\u001b[0m\u001b[1;33m:\u001b[0m\u001b[1;33m\u001b[0m\u001b[1;33m\u001b[0m\u001b[0m\n",
      "\u001b[1;32m~\\Anaconda3\\lib\\site-packages\\keras\\engine\\training_utils.py\u001b[0m in \u001b[0;36mstandardize_input_data\u001b[1;34m(data, names, shapes, check_batch_axis, exception_prefix)\u001b[0m\n\u001b[0;32m    133\u001b[0m                         \u001b[1;34m': expected '\u001b[0m \u001b[1;33m+\u001b[0m \u001b[0mnames\u001b[0m\u001b[1;33m[\u001b[0m\u001b[0mi\u001b[0m\u001b[1;33m]\u001b[0m \u001b[1;33m+\u001b[0m \u001b[1;34m' to have '\u001b[0m \u001b[1;33m+\u001b[0m\u001b[1;33m\u001b[0m\u001b[1;33m\u001b[0m\u001b[0m\n\u001b[0;32m    134\u001b[0m                         \u001b[0mstr\u001b[0m\u001b[1;33m(\u001b[0m\u001b[0mlen\u001b[0m\u001b[1;33m(\u001b[0m\u001b[0mshape\u001b[0m\u001b[1;33m)\u001b[0m\u001b[1;33m)\u001b[0m \u001b[1;33m+\u001b[0m \u001b[1;34m' dimensions, but got array '\u001b[0m\u001b[1;33m\u001b[0m\u001b[1;33m\u001b[0m\u001b[0m\n\u001b[1;32m--> 135\u001b[1;33m                         'with shape ' + str(data_shape))\n\u001b[0m\u001b[0;32m    136\u001b[0m                 \u001b[1;32mif\u001b[0m \u001b[1;32mnot\u001b[0m \u001b[0mcheck_batch_axis\u001b[0m\u001b[1;33m:\u001b[0m\u001b[1;33m\u001b[0m\u001b[1;33m\u001b[0m\u001b[0m\n\u001b[0;32m    137\u001b[0m                     \u001b[0mdata_shape\u001b[0m \u001b[1;33m=\u001b[0m \u001b[0mdata_shape\u001b[0m\u001b[1;33m[\u001b[0m\u001b[1;36m1\u001b[0m\u001b[1;33m:\u001b[0m\u001b[1;33m]\u001b[0m\u001b[1;33m\u001b[0m\u001b[1;33m\u001b[0m\u001b[0m\n",
      "\u001b[1;31mValueError\u001b[0m: Error when checking input: expected simple_rnn_2_input to have 3 dimensions, but got array with shape (36264, 9)"
     ]
    }
   ],
   "source": [
    "model.fit(trainX,trainy, epochs=100, batch_size=64, verbose=2)\n",
    "trainPredict = model.predict(trainX)\n",
    "testPredict= model.predict(testX)\n",
    "\n",
    "predicted=np.concatenate((trainPredict,testPredict),axis=0,)\n",
    "trainScore = model.evaluate(trainX, trainY, verbose=0)"
   ]
  },
  {
   "cell_type": "markdown",
   "metadata": {},
   "source": [
    "**2.**\tPredecir el tramo de edad respecto al tiempo. (graficar)**"
   ]
  },
  {
   "cell_type": "markdown",
   "metadata": {},
   "source": [
    "**3.**\tPredecir “CPFA Nieve” respecto al tiempo. (graficar)"
   ]
  },
  {
   "cell_type": "markdown",
   "metadata": {},
   "source": [
    "**4.**\tProponer"
   ]
  },
  {
   "cell_type": "markdown",
   "metadata": {},
   "source": [
    "## Comparar 2018 con 2019 para estimar y planificar 2020 "
   ]
  },
  {
   "cell_type": "markdown",
   "metadata": {},
   "source": [
    "**1.**\tIdentificar razones de cambio"
   ]
  },
  {
   "cell_type": "markdown",
   "metadata": {},
   "source": [
    "**2.**\tEstimar que zonas tendrán más accidentes durante el 2020"
   ]
  },
  {
   "cell_type": "markdown",
   "metadata": {},
   "source": [
    "## Proponer un producto viable para la DGT"
   ]
  },
  {
   "cell_type": "markdown",
   "metadata": {},
   "source": [
    "## Describir el Notebook para subirlo a GitHub"
   ]
  },
  {
   "cell_type": "markdown",
   "metadata": {},
   "source": [
    "## Crear un resumen, explicación de cada resultado, conclusiones de todo el trabajo y trabajo a futuro."
   ]
  }
 ],
 "metadata": {
  "kernelspec": {
   "display_name": "Python 3",
   "language": "python",
   "name": "python3"
  },
  "language_info": {
   "codemirror_mode": {
    "name": "ipython",
    "version": 3
   },
   "file_extension": ".py",
   "mimetype": "text/x-python",
   "name": "python",
   "nbconvert_exporter": "python",
   "pygments_lexer": "ipython3",
   "version": "3.7.4"
  }
 },
 "nbformat": 4,
 "nbformat_minor": 4
}
